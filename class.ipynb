{
 "cells": [
  {
   "cell_type": "code",
   "execution_count": 10,
   "metadata": {},
   "outputs": [],
   "source": [
    "import json\n",
    "import shutil\n",
    "import os\n",
    "# folder contain images which need to divide each classes\n",
    "folder = \"D:\\Box\\Dataset\\Validation\"\n",
    "# foder where you need save image\n",
    "dir_save = \"D:\\Box\\Dataset\\class_validation\"\n",
    "# list your classes\n",
    "label = [\"arrow\", \"Box\", \"Dirty\", \"Folded\", \"Glue error\", \"Logo\", \"Tear-dent\", \"word bottom\", \"word top\", \"Wrong label position\"]\n",
    "for filename in os.listdir(folder):\n",
    "    if \"json\" in filename:\n",
    "        dir = os.path.join(folder, filename)\n",
    "        with open(dir, encoding='utf-8') as json_file:\n",
    "            dir_image = dir.split('.json')[0]\n",
    "            file_image = filename.split('.json')[0]\n",
    "            json_data = json.load(json_file)\n",
    "            ID = json_data['classId']\n",
    "            for lb in label:\n",
    "                if lb in ID:\n",
    "                    destination_json = os.path.join(dir_save, lb, filename)\n",
    "                    destination_image = os.path.join(dir_save, lb, file_image)\n",
    "                    shutil.copyfile(dir_image, destination_image)\n",
    "                    shutil.copyfile(dir, destination_json)"
   ]
  },
  {
   "cell_type": "code",
   "execution_count": 3,
   "metadata": {},
   "outputs": [
    {
     "name": "stderr",
     "output_type": "stream",
     "text": [
      "100%|██████████████████████████████████████████████████████████████████████████████| 5618/5618 [04:02<00:00, 23.18it/s]"
     ]
    },
    {
     "name": "stdout",
     "output_type": "stream",
     "text": [
      "96.12818090770847\n"
     ]
    },
    {
     "name": "stderr",
     "output_type": "stream",
     "text": [
      "\n"
     ]
    }
   ],
   "source": [
    "import json\n",
    "import shutil\n",
    "import os\n",
    "import cv2 as cv\n",
    "import numpy as np\n",
    "from tqdm import tqdm\n",
    "all = []\n",
    "folder = \"D:\\DL Configs\\DLApplication\\Box_Inspection\\Dataset\\Source\"\n",
    "m = 0\n",
    "i = 0.0\n",
    "for filename in tqdm(os.listdir(folder)):\n",
    "    with open(os.path.join(folder, filename), encoding='utf-8') as json_file:\n",
    "        dir = os.path.join(folder, filename)\n",
    "        #dir_ = dir.split('.json')\n",
    "        if \"json\" not in filename:\n",
    "            m+=np.mean(cv.imread(dir,0))\n",
    "            i+=1\n",
    "print(m/i)"
   ]
  },
  {
   "cell_type": "code",
   "execution_count": null,
   "metadata": {},
   "outputs": [],
   "source": []
  }
 ],
 "metadata": {
  "kernelspec": {
   "display_name": "Python 3",
   "language": "python",
   "name": "python3"
  },
  "language_info": {
   "codemirror_mode": {
    "name": "ipython",
    "version": 3
   },
   "file_extension": ".py",
   "mimetype": "text/x-python",
   "name": "python",
   "nbconvert_exporter": "python",
   "pygments_lexer": "ipython3",
   "version": "3.7.0"
  }
 },
 "nbformat": 4,
 "nbformat_minor": 2
}
